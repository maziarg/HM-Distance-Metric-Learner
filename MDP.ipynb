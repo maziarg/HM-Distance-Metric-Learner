{
 "cells": [
  {
   "cell_type": "markdown",
   "metadata": {},
   "source": [
    "# Comp 767: MDP Assignment (Feb. 5th 2018)"
   ]
  },
  {
   "cell_type": "markdown",
   "metadata": {},
   "source": [
    "## Bellman Optimality Equations\n",
    "To show that there exists a solution to the Bellman Optimality equations we must show that the Bellman optimality operator is a contraction mapping. It then follows, by the **contraction mapping theorem** that the operator converges to a unique fixed point. \n",
    "\n",
    "We begin by defining our operator $B$ as the Bellman optimality equation:\n",
    "\n",
    "$$\n",
    "B(v) = \\max_{a\\in A} (R^a + \\gamma P^a v)\n",
    "$$\n",
    "\n",
    "$B$ is a contraction mapping if, for all value functions $u, v$ and some $0 \\leq \\gamma < 1$, \n",
    "\n",
    "$$\n",
    "||B(u) - B(v)||_{\\infty} \\leq \\gamma || u-v||_{\\infty}\n",
    "$$\n",
    "\n",
    "Proof:\n",
    "$$\n",
    "\\begin{aligned}\n",
    "||B(u) - B(v)||_{\\infty} &= || \\max_{a\\in A} (R^a + \\gamma P^a u) - \\max_{a\\in A} (R^a + \\gamma P^a v) ||_{\\infty}\n",
    "\\\\\\\\\n",
    "&\\leq || \\max_{a \\in A}((R^a + \\gamma P^a u) - (R^a + \\gamma P^a v)) ||_{\\infty}\n",
    "\\\\\\\\\n",
    "&= ||\\max_{a \\in A}(\\gamma P^a (u-v))||_{\\infty}\n",
    "\\\\\\\\\n",
    "&\\leq || \\max_{a \\in A} \\gamma (u-v) ||_{\\infty} \n",
    "\\\\\\\\\n",
    "&= ||\\gamma (u-v)||_{\\infty} = \\gamma || u-v ||_{\\infty}\n",
    "\\end{aligned}\n",
    "$$\n",
    "\n",
    "B is a contraction mapping $\\implies$ B converges to a unique fixed point (a unique value function) $\\implies$ there exists a solution to the Bellman optimality equation."
   ]
  },
  {
   "cell_type": "markdown",
   "metadata": {},
   "source": [
    "## Policy Iteration \n",
    "In policy iteration, we begin with some deterministic policy $\\pi$ at iteration $k$. Once the the policy is evaluated, we improve our policy by acting greedily over every state in the system for a single step:\n",
    "\n",
    "$$\n",
    "\\pi^\\prime(s) = \\underset{a\\in A}{\\operatorname{argmax}}q(s,a)\n",
    "$$\n",
    "\n",
    "This improves our value function over a single step for all $s \\in S$, then follows the previous policy $\\pi$ for all subsequent steps.\n",
    "\n",
    "$$\n",
    "q_\\pi(s, \\pi^\\prime(s)) \\geq q_\\pi(s,\\pi(s)) \\\\\n",
    "\\max_{a\\in A} q_\\pi(s,a) \\geq V_\\pi(s)\n",
    "$$\n",
    "\n",
    "\n",
    "Would we have even further improved the value function if we did this for all subsequent steps? \n",
    "\n",
    "$$\n",
    "\\begin{aligned}\n",
    "V_\\pi(s) &\\leq q_\\pi(s,\\pi^\\prime(s)) = \\mathbb{E}_{\\pi^\\prime}[R_{t+1} + \\gamma V_\\pi(S_{t+1}) |S_t = s]\\\\\n",
    "&\\leq \\mathbb{E}_{\\pi^\\prime}[R_{t+1} + \\gamma q_\\pi(S_{t+1}, \\pi^\\prime(S_{t+1}))|S_t = s]\\\\\n",
    "&\\leq \\mathbb{E}_{\\pi^\\prime}[R_{t+1} + \\gamma R_{t+2} + \\gamma^2 q_\\pi(S_{t+2}, \\pi^\\prime(S_{t+2}))|S_t = s]\\\\\n",
    "&\\leq \\mathbb{E}_{\\pi^\\prime}[R_{t+1} + \\gamma R_{t+2} + \\gamma^2 R_{t+3} + \\gamma^3 q_\\pi(S_{t+3}, \\pi^\\prime(S_{t+3}))|S_t = s]\\\\\n",
    "&\\leq \\mathbb{E}_{\\pi^\\prime}[R_{t+1} + \\gamma R_{t+2} + \\gamma^2 R_{t+3} + \\gamma^3 R_{t+4} + ...|S_t = s] = V_{\\pi^\\prime}(s)\n",
    "\\end{aligned}\n",
    "$$\n",
    "\n",
    "Policy iteration will select the greedy policy after each policy evaluation, which corresponds to exactly what was shown above. Therefore, we have shown that for two successive policies of policy iteration, the value subsequent value function is always greater than or equal to the previous, that is $V_\\pi(s) \\leq V_{\\pi^\\prime}(s)$ for all $s \\in S$.\n",
    "\n",
    "Since policy iteration improves at each step (or terminates when policy no longer changes) and we know that there exists an optimal policy (theorem: for any MDP, there exists an optimal policy that is better than or equal to all other policies), then it is impossible for the policy to become infinitely better and must converge to the optimal solution in a finite number of steps. \n",
    "\n",
    "To show this, consider the point where policy improvement stops:\n",
    "\n",
    "$$\n",
    "q_\\pi(s,\\pi^\\prime(s)) = \\max_{a\\in A} q(s,a) = q_\\pi(s,\\pi(s)) = v_\\pi(s)\n",
    "$$\n",
    "\n",
    "At this point, the Bellman optimality equation has been satisfied as the value function is no longer increasing. \n",
    "\n",
    "We showed in Question 1 that the Bellman optimality equation has a unique fixed point, that is a single value function that is mapped to itself by the Bellman optimality equation. We also discussed that the value function cannot become infinitely better given that there exists an optimal solution and must converge to a single value function in a finite number of steps.\n",
    "\n",
    "Therefore, upon termination $V_\\pi(s) = V_*(s)$ for all $s \\in S$, which implies that upon termination $\\pi$ is an optimal policy."
   ]
  },
  {
   "cell_type": "markdown",
   "metadata": {},
   "source": [
    "## Track 1"
   ]
  },
  {
   "cell_type": "code",
   "execution_count": 1,
   "metadata": {
    "collapsed": true
   },
   "outputs": [],
   "source": [
    "import numpy as np\n",
    "import time\n",
    "import matplotlib.pyplot as plt"
   ]
  },
  {
   "cell_type": "markdown",
   "metadata": {},
   "source": [
    "## *2-state environment*\n",
    "Policies are read as follows:\n",
    "- Rows represent possible states in the system ${s_0, s_1}$.\n",
    "- Columns represent actions ${a_0, a_1, a_2}$"
   ]
  },
  {
   "cell_type": "code",
   "execution_count": 2,
   "metadata": {
    "collapsed": true
   },
   "outputs": [],
   "source": [
    "class two_state_environment:\n",
    "    def __init__(self):\n",
    "        self.nS = 2\n",
    "        self.nA = 3\n",
    "        self.P = {\n",
    "                # States\n",
    "                0:{\n",
    "                        # Actions, (prob, next_state, reward)\n",
    "                        0: [(0.5, 0, 5), (0.5, 1, 5)],\n",
    "                        1: [(0,0,0),(1, 1, 10)],\n",
    "                        2: [(1,0,-1e9),(0,0,0)]},\n",
    "\n",
    "                1:{\n",
    "                        0:[(1,0,-1e9),(0,0,0)],\n",
    "                        1:[(1,0,-1e9),(0,0,0)],\n",
    "                        2:[(0,0,0),(1, 1, -1)]}\n",
    "        }"
   ]
  },
  {
   "cell_type": "code",
   "execution_count": 4,
   "metadata": {
    "collapsed": true
   },
   "outputs": [],
   "source": [
    "def one_step_lookahead(environment, state, V, discount_factor):\n",
    "    ''' Return action_values at current state for given value function. '''\n",
    "    action_values = np.zeros(environment.nA)\n",
    "    for action in range(environment.nA):\n",
    "            for probability, next_state, reward in env.P[state][action]:\n",
    "                    action_values[action] += probability * (reward + discount_factor * V[next_state])\n",
    "    return action_values"
   ]
  },
  {
   "cell_type": "code",
   "execution_count": 5,
   "metadata": {},
   "outputs": [],
   "source": [
    "def policy_evaluation(policy, environment, discount_factor=0.95, theta=1e-12, max_iter=1e5, modified=False):\n",
    "    ''' Evaluate a given policy at every state and return the value function over all states. '''\n",
    "    evaluation_iterations = 1\n",
    "    V = np.zeros(environment.nS)\n",
    "\n",
    "    for i in range(int(max_iter)):\n",
    "            delta = 0\n",
    "            for state in range(environment.nS):\n",
    "                    v = 0\n",
    "                    for action, action_prob in enumerate(policy[state]):\n",
    "                            for state_prob, next_state, reward in environment.P[state][action]:\n",
    "                                    v += action_prob * state_prob * (reward+discount_factor*V[next_state])\n",
    "                    delta = max(delta, np.abs(V[state] - v))\n",
    "                    V[state] = v\n",
    "                    if modified:\n",
    "                            if delta < theta:\n",
    "                                    print(f'\\tPolicy evaluated in {evaluation_iterations} iterations')\n",
    "                                    return V\n",
    "    return V\n",
    "\n",
    "def policy_iteration(environment, discount_factor=0.95, max_iter=1e5, modified=False):\n",
    "    # Perform policy iteration and return policy along with value function\n",
    "\n",
    "    # Uniform random policy\n",
    "    policy = np.ones([environment.nS, environment.nA]) / environment.nA\n",
    "    evaluated_policies = 1\n",
    "\n",
    "    for i in range(int(max_iter)):\n",
    "            stable_policy = True\n",
    "            V = policy_evaluation(policy, environment, discount_factor=discount_factor, modified=modified)\n",
    "            for state in range(environment.nS):\n",
    "                    current_action = np.argmax(policy[state])\n",
    "                    action_values = one_step_lookahead(environment, state, V, discount_factor)\n",
    "                    best_action = np.argmax(action_values)\n",
    "                    #print(f'State {state}:: Current_action, action_values, best_action:\\n',current_action, action_values, best_action, '\\n')\n",
    "                    if current_action != best_action:\n",
    "                            stable_policy = True\n",
    "                    policy[state] = np.eye(environment.nA)[best_action]\n",
    "            evaluated_policies+=1\n",
    "\n",
    "            if stable_policy:\n",
    "                    print(f'Evaluated {evaluated_policies} policies.')\n",
    "                    return policy, V"
   ]
  },
  {
   "cell_type": "code",
   "execution_count": 6,
   "metadata": {
    "collapsed": true
   },
   "outputs": [],
   "source": [
    "def value_iteration(environment, discount_factor=0.95, theta=1e-9, max_iterations=1e5):\n",
    "    V = np.zeros(environment.nS)\n",
    "    for i in range(int(max_iterations)):\n",
    "            delta = 0\n",
    "            for state in range(environment.nS):\n",
    "                    action_value = one_step_lookahead(environment, state, V, discount_factor)\n",
    "                    best_action_value = np.max(action_value)\n",
    "                    delta = max(delta, np.abs(V[state] - best_action_value))\n",
    "                    V[state] = best_action_value\n",
    "\n",
    "            if delta < theta:\n",
    "                    print(f'Value iteration converged at iteration #{i}')\n",
    "                    break\n",
    "\n",
    "    policy = np.zeros([environment.nS, environment.nA])\n",
    "\n",
    "    for state in range(environment.nS):\n",
    "            action_value = one_step_lookahead(environment, state, V, discount_factor)\n",
    "            best_action = np.argmax(action_value)\n",
    "            policy[state, best_action] = 1.0\n",
    "\n",
    "    return policy, V"
   ]
  },
  {
   "cell_type": "code",
   "execution_count": 7,
   "metadata": {},
   "outputs": [],
   "source": [
    "# 2-state environment\n",
    "env = two_state_environment()"
   ]
  },
  {
   "cell_type": "code",
   "execution_count": 8,
   "metadata": {},
   "outputs": [
    {
     "name": "stdout",
     "output_type": "stream",
     "text": [
      "Policy Iteration:\n",
      "Evaluated 2 policies.\n",
      "\n",
      "Optimal policy:\n",
      " [[ 1.  0.  0.]\n",
      " [ 0.  0.  1.]]\n",
      "\n",
      "Final value function [ -9.40047956e+09  -9.68824935e+09]\n"
     ]
    }
   ],
   "source": [
    "print('Policy Iteration:')\n",
    "policy, V = policy_iteration(env, discount_factor=0.95, modified=False)\n",
    "print('\\nOptimal policy:\\n', policy)\n",
    "print('\\nFinal value function', V)"
   ]
  },
  {
   "cell_type": "code",
   "execution_count": 9,
   "metadata": {},
   "outputs": [
    {
     "name": "stdout",
     "output_type": "stream",
     "text": [
      "Modified Policy Iteration:\n",
      "\tPolicy evaluated in 1 iterations\n",
      "Evaluated 2 policies.\n",
      "\n",
      "Optimal policy:\n",
      " [[ 1.  0.  0.]\n",
      " [ 0.  0.  1.]]\n",
      "\n",
      "Final value function [ -9.40047956e+09  -9.68824935e+09]\n"
     ]
    }
   ],
   "source": [
    "print('Modified Policy Iteration:')\n",
    "policy, V = policy_iteration(env, discount_factor=0.95, modified=True)\n",
    "print('\\nOptimal policy:\\n', policy)\n",
    "print('\\nFinal value function', V)"
   ]
  },
  {
   "cell_type": "code",
   "execution_count": 10,
   "metadata": {},
   "outputs": [
    {
     "name": "stdout",
     "output_type": "stream",
     "text": [
      "Value Iteration\n",
      "Value iteration converged at iteration #405\n",
      "\n",
      "Optimal policy:\n",
      " [[ 1.  0.  0.]\n",
      " [ 0.  0.  1.]]\n",
      "\n",
      "Final value function [ -8.57142855 -19.99999998]\n"
     ]
    }
   ],
   "source": [
    "print('Value Iteration')\n",
    "policy, V = value_iteration(env, discount_factor=0.95)\n",
    "print('\\nOptimal policy:\\n', policy)\n",
    "print('\\nFinal value function', V)"
   ]
  },
  {
   "cell_type": "markdown",
   "metadata": {},
   "source": [
    "## *Gridworld from S&B p.60*\n",
    "Rules of the system:\n",
    "- 16 possible states (4*4 grid)\n",
    "- Agent can move in one of 4 directions: {up,down,left,right}. \n",
    "- Every move the agent makes is associated with a reward r = -1\n",
    "- If the agent attempts to leave the grid, it will remain in its current position and will gain a reward of r=-1. \n",
    "- When the agent is in one of the two terminal states, the reward associated with leaving the grid is r = 0. That is, if the agent is in the top right, it can go up or left with a reward of zero. If it is in the lower right corner, it can go down or right with a reward or 0. This signifies exiting the board or terminating. In other words, the agent will remain in this position forever. "
   ]
  },
  {
   "cell_type": "code",
   "execution_count": null,
   "metadata": {
    "collapsed": true
   },
   "outputs": [],
   "source": [
    "class grid_world:\n",
    "    def __init__(self):\n",
    "            self.nS = 16\n",
    "            self.nA = 4\n",
    "            self.P = {}\n",
    "            for s in range(self.nS):\n",
    "                    action_dict = {}\n",
    "                    up = s-4\n",
    "                    if up not in [i for i in range(self.nS)]:\n",
    "                            up = s\n",
    "                    down = s+4\n",
    "                    if down not in [i for i in range(self.nS)]:\n",
    "                            down = s\n",
    "                    left = s-1\n",
    "                    if left in [-1,3,7,11,15]:\n",
    "                            left = s\n",
    "\n",
    "                    right = s+1\n",
    "                    if right in [4,8,12,16]:\n",
    "                            right = s\n",
    "\n",
    "                    for action_index, endpoint in enumerate([up,down,left,right]):\n",
    "                            if s == 0 and action_index in [0,2]:\n",
    "                                    action_dict[action_index] = [(0.25,endpoint,0)]\n",
    "                            elif s == 15 and action_index in [1,3]:\n",
    "                                    action_dict[action_index] = [(0.25,endpoint,0)]\n",
    "                            else:\n",
    "                                    action_dict[action_index] = [(0.25,endpoint,-1)]\n",
    "\n",
    "                    self.P[s] = action_dict"
   ]
  },
  {
   "cell_type": "code",
   "execution_count": 11,
   "metadata": {},
   "outputs": [],
   "source": [
    "# Grid world\n",
    "action_mapping = {\n",
    "        0:  '\\u2191', # UP\n",
    "        1:  '\\u2193', # DOWN\n",
    "        2:  '\\u2190', # LEFT\n",
    "        3:  '\\u2192', # RIGHT\n",
    "}\n",
    "env = grid_world()"
   ]
  },
  {
   "cell_type": "code",
   "execution_count": 12,
   "metadata": {},
   "outputs": [
    {
     "name": "stdout",
     "output_type": "stream",
     "text": [
      "Policy Iteration:\n",
      "Evaluated 2 policies.\n",
      "\n",
      "Optimal policy:\n",
      "↑  ←  ←  ↓\n",
      "↑  ↑  ↓  ↓\n",
      "↑  ↑  →  ↓\n",
      "↑  →  →  ↓\n",
      "\n",
      "Optimal value function:\n",
      " [-0.1890841  -0.32358871 -0.33266129 -0.33323733 -0.32358871 -0.33208525\n",
      " -0.33309332 -0.33266129 -0.33266129 -0.33309332 -0.33208525 -0.32358871\n",
      " -0.33323733 -0.33266129 -0.32358871 -0.1890841 ]\n"
     ]
    }
   ],
   "source": [
    "print('Policy Iteration:')\n",
    "policy, V = policy_iteration(env, discount_factor=1, modified=False)\n",
    "action_list = []\n",
    "for state in policy:\n",
    "    action_list.append([i for i, e in enumerate(state) if e != 0][0])\n",
    "\n",
    "print('\\nOptimal policy:')\n",
    "for i,action in enumerate(action_list):\n",
    "    if i in [3,7,11,15]:\n",
    "            print(action_mapping[action])\n",
    "    else:\n",
    "            print(action_mapping[action], ' ', end=\"\")\n",
    "\n",
    "print('\\nOptimal value function:\\n', V)"
   ]
  },
  {
   "cell_type": "code",
   "execution_count": 13,
   "metadata": {},
   "outputs": [
    {
     "name": "stdout",
     "output_type": "stream",
     "text": [
      "Modified Policy Iteration:\n",
      "\tPolicy evaluated in 1 iterations\n",
      "Evaluated 2 policies.\n",
      "\n",
      "Optimal policy:\n",
      "↑  ←  ←  ←\n",
      "↑  ↑  ←  ↓\n",
      "↑  ↑  ↓  ↓\n",
      "↑  →  →  ↓\n",
      "\n",
      "Optimal value function:\n",
      " [-0.1890841  -0.32358871 -0.33266129 -0.33323733 -0.32358871 -0.33208525\n",
      " -0.33309332 -0.33266129 -0.33266129 -0.33309332 -0.33208525 -0.32358871\n",
      " -0.33323733 -0.33266129 -0.32358871 -0.1890841 ]\n"
     ]
    }
   ],
   "source": [
    "print('Modified Policy Iteration:')\n",
    "policy, V = policy_iteration(env, discount_factor=1, modified=True)\n",
    "action_list = []\n",
    "for state in policy:\n",
    "    action_list.append([i for i, e in enumerate(state) if e != 0][0])\n",
    "\n",
    "print('\\nOptimal policy:')\n",
    "for i,action in enumerate(action_list):\n",
    "    if i in [3,7,11,15]:\n",
    "            print(action_mapping[action])\n",
    "    else:\n",
    "            print(action_mapping[action], ' ', end=\"\")\n",
    "\n",
    "print('\\nOptimal value function:\\n', V)"
   ]
  },
  {
   "cell_type": "code",
   "execution_count": 14,
   "metadata": {},
   "outputs": [
    {
     "name": "stdout",
     "output_type": "stream",
     "text": [
      "Value Iteration\n",
      "Value iteration converged at iteration #3\n",
      "\n",
      "Optimal policy:\n",
      "↑  ←  ←  ↓\n",
      "↑  ↑  ↑  ↓\n",
      "↑  ↑  ↓  ↓\n",
      "↑  →  →  ↓\n",
      "\n",
      "Optimal value function:\n",
      " [ 0.       -0.25     -0.3125   -0.328125 -0.25     -0.3125   -0.328125\n",
      " -0.3125   -0.3125   -0.328125 -0.3125   -0.25     -0.328125 -0.3125   -0.25\n",
      "  0.      ]\n"
     ]
    }
   ],
   "source": [
    "print('Value Iteration')\n",
    "policy, V = value_iteration(env, discount_factor=1)\n",
    "action_list = []\n",
    "for state in policy:\n",
    "    action_list.append([i for i, e in enumerate(state) if e != 0][0])\n",
    "\n",
    "print('\\nOptimal policy:')\n",
    "for i,action in enumerate(action_list):\n",
    "    if i in [3,7,11,15]:\n",
    "            print(action_mapping[action])\n",
    "    else:\n",
    "            print(action_mapping[action], ' ', end=\"\")\n",
    "\n",
    "print('\\nOptimal value function:\\n', V)"
   ]
  },
  {
   "cell_type": "markdown",
   "metadata": {},
   "source": [
    "## Effect of discount factor on algorithms"
   ]
  },
  {
   "cell_type": "code",
   "execution_count": 15,
   "metadata": {},
   "outputs": [
    {
     "name": "stdout",
     "output_type": "stream",
     "text": [
      "Evaluated 2 policies.\n",
      "\tPolicy evaluated in 1 iterations\n",
      "Evaluated 2 policies.\n",
      "Value iteration converged at iteration #1\n",
      "Evaluated 2 policies.\n",
      "\tPolicy evaluated in 1 iterations\n",
      "Evaluated 2 policies.\n",
      "Value iteration converged at iteration #3\n",
      "Evaluated 2 policies.\n",
      "\tPolicy evaluated in 1 iterations\n",
      "Evaluated 2 policies.\n",
      "Value iteration converged at iteration #3\n",
      "Evaluated 2 policies.\n",
      "\tPolicy evaluated in 1 iterations\n",
      "Evaluated 2 policies.\n",
      "Value iteration converged at iteration #3\n",
      "Evaluated 2 policies.\n",
      "\tPolicy evaluated in 1 iterations\n",
      "Evaluated 2 policies.\n",
      "Value iteration converged at iteration #3\n",
      "Evaluated 2 policies.\n",
      "\tPolicy evaluated in 1 iterations\n",
      "Evaluated 2 policies.\n",
      "Value iteration converged at iteration #3\n",
      "Evaluated 2 policies.\n",
      "\tPolicy evaluated in 1 iterations\n",
      "Evaluated 2 policies.\n",
      "Value iteration converged at iteration #3\n",
      "Evaluated 2 policies.\n",
      "\tPolicy evaluated in 1 iterations\n",
      "Evaluated 2 policies.\n",
      "Value iteration converged at iteration #3\n",
      "Evaluated 2 policies.\n",
      "\tPolicy evaluated in 1 iterations\n",
      "Evaluated 2 policies.\n",
      "Value iteration converged at iteration #3\n",
      "Evaluated 2 policies.\n",
      "\tPolicy evaluated in 1 iterations\n",
      "Evaluated 2 policies.\n",
      "Value iteration converged at iteration #3\n"
     ]
    }
   ],
   "source": [
    "discount_factors = np.linspace(0,1,10)\n",
    "times_policyiteration = []\n",
    "times_modifiedpolicyiteration = []\n",
    "times_valueiteration = []\n",
    "for d in discount_factors:\n",
    "    start = time.time()\n",
    "    policy, V = policy_iteration(env, discount_factor=d, modified=False)\n",
    "    times_policyiteration.append(time.time() - start)\n",
    "    \n",
    "    start = time.time()\n",
    "    policy, V = policy_iteration(env, discount_factor=d, modified=True)\n",
    "    times_modifiedpolicyiteration.append(time.time() - start)\n",
    "    \n",
    "    start = time.time()\n",
    "    policy, V = value_iteration(env, discount_factor=d)\n",
    "    times_valueiteration.append(time.time() - start)\n",
    "    "
   ]
  },
  {
   "cell_type": "code",
   "execution_count": 16,
   "metadata": {},
   "outputs": [
    {
     "data": {
      "image/png": "[encoded data removed]",
      "text/plain": [
       "<matplotlib.figure.Figure at 0x252ef6440f0>"
      ]
     },
     "metadata": {},
     "output_type": "display_data"
    }
   ],
   "source": [
    "f, (ax1, ax2, ax3) = plt.subplots(3, sharex=False, sharey=False, figsize=(10, 10))\n",
    "ax1.plot(discount_factors, times_policyiteration, label = 'policy iteration', color='g')\n",
    "ax1.set_title('Effect of discount factor on convergence rate')\n",
    "ax1.legend()\n",
    "ax2.plot(discount_factors, times_modifiedpolicyiteration, label = \"modf'd policy iteration\", color='y')\n",
    "ax2.legend()\n",
    "ax3.plot(discount_factors, times_valueiteration, label='value iteration', color='r')\n",
    "ax3.legend()\n",
    "plt.tight_layout()\n",
    "plt.show()"
   ]
  },
  {
   "cell_type": "markdown",
   "metadata": {},
   "source": [
    "The discount factor does not seem to affect the convergence rate very much in this case. This is likely because the gridworld toy problem I chose is too small to notice any difference. The fluctations shown in the graphs above are likely do to inconsistencies in the computation times of my personal computer. However, we proved above that the Bellman optimality equation is a contraction mapping and therefore, by the contraction mapping theorem, converges to a unique fixed point at a rate of $\\gamma$, for a $0 \\leq \\gamma < 1$. In a larger problem, a larger discount factor approaching 1 should increase the rate at which the algorithms converge. "
   ]
  }
 ],
 "metadata": {
  "kernelspec": {
   "display_name": "Python 3",
   "language": "python",
   "name": "python3"
  },
  "language_info": {
   "codemirror_mode": {
    "name": "ipython",
    "version": 3
   },
   "file_extension": ".py",
   "mimetype": "text/x-python",
   "name": "python",
   "nbconvert_exporter": "python",
   "pygments_lexer": "ipython3",
   "version": "3.6.1"
  }
 },
 "nbformat": 4,
 "nbformat_minor": 2
}
